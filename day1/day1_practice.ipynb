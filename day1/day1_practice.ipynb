{
  "cells": [
    {
      "cell_type": "markdown",
      "metadata": {
        "id": "gSpnWBP5ELSI"
      },
      "source": [
        "# 実践演習 Day 1：streamlitとFastAPIのデモ\n",
        "このノートブックでは以下の内容を学習します。\n",
        "\n",
        "- 必要なライブラリのインストールと環境設定\n",
        "- Hugging Faceからモデルを用いたStreamlitのデモアプリ\n",
        "- FastAPIとngrokを使用したAPIの公開方法\n",
        "\n",
        "演習を始める前に、HuggingFaceとngrokのアカウントを作成し、\n",
        "それぞれのAPIトークンを取得する必要があります。\n",
        "\n",
        "\n",
        "演習の時間では、以下の3つのディレクトリを順に説明します。\n",
        "\n",
        "1. 01_streamlit_UI\n",
        "2. 02_streamlit_app\n",
        "3. 03_FastAPI\n",
        "\n",
        "2つ目や3つ目からでも始められる様にノートブックを作成しています。\n",
        "\n",
        "復習の際にもこのノートブックを役立てていただければと思います。\n",
        "\n",
        "### 注意事項\n",
        "「02_streamlit_app」と「03_FastAPI」では、GPUを使用します。\n",
        "\n",
        "これらを実行する際は、Google Colab画面上のメニューから「編集」→ 「ノートブックの設定」\n",
        "\n",
        "「ハードウェアアクセラレーター」の項目の中から、「T4 GPU」を選択してください。\n",
        "\n",
        "このノートブックのデフォルトは「CPU」になっています。\n",
        "\n",
        "---"
      ]
    },
    {
      "cell_type": "markdown",
      "metadata": {
        "id": "OhtHkJOgELSL"
      },
      "source": [
        "# 環境変数の設定（1~3共有）\n"
      ]
    },
    {
      "cell_type": "markdown",
      "metadata": {
        "id": "Y-FjBp4MMQHM"
      },
      "source": [
        "GitHubから演習用のコードをCloneします。"
      ]
    },
    {
      "cell_type": "code",
      "execution_count": 1,
      "metadata": {
        "id": "AIXMavdDEP8U",
        "outputId": "17393dd9-9181-41cc-8a20-7d5b62bedb07",
        "colab": {
          "base_uri": "https://localhost:8080/"
        }
      },
      "outputs": [
        {
          "output_type": "stream",
          "name": "stdout",
          "text": [
            "Cloning into 'lecture-ai-engineering'...\n",
            "remote: Enumerating objects: 41, done.\u001b[K\n",
            "remote: Counting objects: 100% (33/33), done.\u001b[K\n",
            "remote: Compressing objects: 100% (29/29), done.\u001b[K\n",
            "remote: Total 41 (delta 7), reused 4 (delta 4), pack-reused 8 (from 1)\u001b[K\n",
            "Receiving objects: 100% (41/41), 34.03 KiB | 11.34 MiB/s, done.\n",
            "Resolving deltas: 100% (7/7), done.\n"
          ]
        }
      ],
      "source": [
        "!git clone https://github.com/suwaha1486/lecture-ai-engineering.git"
      ]
    },
    {
      "cell_type": "markdown",
      "metadata": {
        "id": "XC8n7yZ_vs1K"
      },
      "source": [
        "必要なAPIトークンを.envに設定します。\n",
        "\n",
        "「lecture-ai-engineering/day1」の配下に、「.env_template」ファイルが存在しています。\n",
        "\n",
        "隠しファイルのため表示されていない場合は、画面左側のある、目のアイコンの「隠しファイルの表示」ボタンを押してください。\n",
        "\n",
        "「.env_template」のファイル名を「.env」に変更します。「.env」ファイルを開くと、以下のような中身になっています。\n",
        "\n",
        "\n",
        "```\n",
        "HUGGINGFACE_TOKEN=\"hf-********\"\n",
        "NGROK_TOKEN=\"********\"\n",
        "```\n",
        "ダブルクオーテーションで囲まれた文字列をHuggingfaceのアクセストークンと、ngrokの認証トークンで書き変えてください。\n",
        "\n",
        "それぞれのアカウントが作成済みであれば、以下のURLからそれぞれのトークンを取得できます。\n",
        "\n",
        "- Huggingfaceのアクセストークン\n",
        "https://huggingface.co/docs/hub/security-tokens\n",
        "\n",
        "- ngrokの認証トークン\n",
        "https://dashboard.ngrok.com/get-started/your-authtoken\n",
        "\n",
        "書き換えたら、「.env」ファイルをローカルのPCにダウンロードしてください。\n",
        "\n",
        "「01_streamlit_UI」から「02_streamlit_app」へ進む際に、CPUからGPUの利用に切り替えるため、セッションが一度切れてしまいます。\n",
        "\n",
        "その際に、トークンを設定した「.env」ファイルは再作成することになるので、その手間を減らすために「.env」ファイルをダウンロードしておくと良いです。"
      ]
    },
    {
      "cell_type": "markdown",
      "metadata": {
        "id": "Py1BFS5RqcSS"
      },
      "source": [
        "「.env」ファイルを読み込み、環境変数として設定します。次のセルを実行し、最終的に「True」が表示されていればうまく読み込めています。"
      ]
    },
    {
      "cell_type": "code",
      "execution_count": 2,
      "metadata": {
        "id": "bvEowFfg5lrq",
        "outputId": "4cbe281b-23b9-44ce-b58a-8459d096dd76",
        "colab": {
          "base_uri": "https://localhost:8080/"
        }
      },
      "outputs": [
        {
          "output_type": "stream",
          "name": "stdout",
          "text": [
            "Collecting python-dotenv\n",
            "  Downloading python_dotenv-1.1.0-py3-none-any.whl.metadata (24 kB)\n",
            "Downloading python_dotenv-1.1.0-py3-none-any.whl (20 kB)\n",
            "Installing collected packages: python-dotenv\n",
            "Successfully installed python-dotenv-1.1.0\n",
            "/content/lecture-ai-engineering/day1\n"
          ]
        },
        {
          "output_type": "execute_result",
          "data": {
            "text/plain": [
              "True"
            ]
          },
          "metadata": {},
          "execution_count": 2
        }
      ],
      "source": [
        "!pip install python-dotenv\n",
        "from dotenv import load_dotenv, find_dotenv\n",
        "\n",
        "%cd /content/lecture-ai-engineering/day1\n",
        "load_dotenv(find_dotenv())"
      ]
    },
    {
      "cell_type": "markdown",
      "metadata": {
        "id": "os0Yk6gaELSM"
      },
      "source": [
        "# 01_streamlit_UI\n",
        "\n",
        "ディレクトリ「01_streamlit_UI」に移動します。"
      ]
    },
    {
      "cell_type": "code",
      "execution_count": null,
      "metadata": {
        "id": "S28XgOm0ELSM"
      },
      "outputs": [],
      "source": [
        "%cd /content/lecture-ai-engineering/day1/01_streamlit_UI"
      ]
    },
    {
      "cell_type": "markdown",
      "metadata": {
        "id": "eVp-aEIkELSM"
      },
      "source": [
        "必要なライブラリをインストールします。"
      ]
    },
    {
      "cell_type": "code",
      "execution_count": null,
      "metadata": {
        "id": "nBe41LFiELSN"
      },
      "outputs": [],
      "source": [
        "%%capture\n",
        "!pip install -r requirements.txt"
      ]
    },
    {
      "cell_type": "markdown",
      "metadata": {
        "id": "Yyw6VHaTELSN"
      },
      "source": [
        "ngrokのトークンを使用して、認証を行います。"
      ]
    },
    {
      "cell_type": "code",
      "execution_count": null,
      "metadata": {
        "id": "aYw1q0iXELSN"
      },
      "outputs": [],
      "source": [
        "!ngrok authtoken $$NGROK_TOKEN"
      ]
    },
    {
      "cell_type": "markdown",
      "metadata": {
        "id": "RssTcD_IELSN"
      },
      "source": [
        "アプリを起動します。"
      ]
    },
    {
      "cell_type": "code",
      "execution_count": null,
      "metadata": {
        "id": "f-E7ucR6ELSN"
      },
      "outputs": [],
      "source": [
        "from pyngrok import ngrok\n",
        "\n",
        "public_url = ngrok.connect(8501).public_url\n",
        "print(f\"公開URL: {public_url}\")\n",
        "!streamlit run app.py"
      ]
    },
    {
      "cell_type": "markdown",
      "metadata": {
        "id": "kbYyXVFjELSN"
      },
      "source": [
        "公開URLの後に記載されているURLにブラウザでアクセスすると、streamlitのUIが表示されます。\n",
        "\n",
        "app.pyのコメントアウトされている箇所を編集することで、UIがどの様に変化するか確認してみましょう。\n",
        "\n",
        "streamlitの公式ページには、ギャラリーページがあります。\n",
        "\n",
        "streamlitを使うとpythonという一つの言語であっても、様々なUIを実現できることがわかると思います。\n",
        "\n",
        "https://streamlit.io/gallery"
      ]
    },
    {
      "cell_type": "markdown",
      "metadata": {
        "id": "MmtP5GLOELSN"
      },
      "source": [
        "後片付けとして、使う必要のないngrokのトンネルを削除します。"
      ]
    },
    {
      "cell_type": "code",
      "execution_count": null,
      "metadata": {
        "id": "8Ek9QgahELSO"
      },
      "outputs": [],
      "source": [
        "from pyngrok import ngrok\n",
        "ngrok.kill()"
      ]
    },
    {
      "cell_type": "markdown",
      "metadata": {
        "id": "o-T8tFpyELSO"
      },
      "source": [
        "# 02_streamlit_app"
      ]
    },
    {
      "cell_type": "markdown",
      "metadata": {
        "id": "QqogFQKnELSO"
      },
      "source": [
        "\n",
        "ディレクトリ「02_streamlit_app」に移動します。"
      ]
    },
    {
      "cell_type": "code",
      "execution_count": 3,
      "metadata": {
        "id": "UeEjlJ7uELSO",
        "outputId": "cda575e5-8719-4f14-9e26-4856b2411877",
        "colab": {
          "base_uri": "https://localhost:8080/"
        }
      },
      "outputs": [
        {
          "output_type": "stream",
          "name": "stdout",
          "text": [
            "/content/lecture-ai-engineering/day1/02_streamlit_app\n"
          ]
        }
      ],
      "source": [
        "%cd /content/lecture-ai-engineering/day1/02_streamlit_app"
      ]
    },
    {
      "cell_type": "markdown",
      "metadata": {
        "id": "-XUH2AstELSO"
      },
      "source": [
        "必要なライブラリをインストールします。"
      ]
    },
    {
      "cell_type": "code",
      "execution_count": 4,
      "metadata": {
        "id": "mDqvI4V3ELSO"
      },
      "outputs": [],
      "source": [
        "%%capture\n",
        "!pip install -r requirements.txt"
      ]
    },
    {
      "cell_type": "markdown",
      "metadata": {
        "id": "ZO31umGZELSO"
      },
      "source": [
        "ngrokとhuggigfaceのトークンを使用して、認証を行います。"
      ]
    },
    {
      "cell_type": "code",
      "execution_count": 5,
      "metadata": {
        "id": "jPxTiEWQELSO",
        "outputId": "29edb2cf-eb43-4bc9-c9ce-47943683e20a",
        "colab": {
          "base_uri": "https://localhost:8080/"
        }
      },
      "outputs": [
        {
          "output_type": "stream",
          "name": "stdout",
          "text": [
            "Authtoken saved to configuration file: /root/.config/ngrok/ngrok.yml\n",
            "The token has not been saved to the git credentials helper. Pass `add_to_git_credential=True` in this function directly or `--add-to-git-credential` if using via `huggingface-cli` if you want to set the git credential as well.\n",
            "Token is valid (permission: read).\n",
            "The token `AIEngineering_2025` has been saved to /root/.cache/huggingface/stored_tokens\n",
            "Your token has been saved to /root/.cache/huggingface/token\n",
            "Login successful.\n",
            "The current active token is: `AIEngineering_2025`\n"
          ]
        }
      ],
      "source": [
        "!ngrok authtoken $$NGROK_TOKEN\n",
        "!huggingface-cli login --token $$HUGGINGFACE_TOKEN"
      ]
    },
    {
      "cell_type": "markdown",
      "metadata": {
        "id": "dz4WrELLELSP"
      },
      "source": [
        "stramlitでHuggingfaceのトークン情報を扱うために、streamlit用の設定ファイル（.streamlit）を作成し、トークンの情報を格納します。"
      ]
    },
    {
      "cell_type": "code",
      "execution_count": 6,
      "metadata": {
        "id": "W184-a7qFP0W"
      },
      "outputs": [],
      "source": [
        "# .streamlit/secrets.toml ファイルを作成\n",
        "import os\n",
        "import toml\n",
        "\n",
        "# 設定ファイルのディレクトリ確保\n",
        "os.makedirs('.streamlit', exist_ok=True)\n",
        "\n",
        "# 環境変数から取得したトークンを設定ファイルに書き込む\n",
        "secrets = {\n",
        "    \"huggingface\": {\n",
        "        \"token\": os.environ.get(\"HUGGINGFACE_TOKEN\", \"\")\n",
        "    }\n",
        "}\n",
        "\n",
        "# 設定ファイルを書き込む\n",
        "with open('.streamlit/secrets.toml', 'w') as f:\n",
        "    toml.dump(secrets, f)"
      ]
    },
    {
      "cell_type": "markdown",
      "metadata": {
        "id": "fK0vI_xKELSP"
      },
      "source": [
        "アプリを起動します。\n",
        "\n",
        "02_streamlit_appでは、Huggingfaceからモデルをダウンロードするため、初回起動には2分程度時間がかかります。\n",
        "\n",
        "この待ち時間を利用して、app.pyのコードを確認してみましょう。"
      ]
    },
    {
      "cell_type": "code",
      "execution_count": 7,
      "metadata": {
        "id": "TBQyTTWTELSP",
        "outputId": "9c027900-6fad-4a4e-a953-d782f733dec6",
        "colab": {
          "base_uri": "https://localhost:8080/"
        }
      },
      "outputs": [
        {
          "output_type": "stream",
          "name": "stdout",
          "text": [
            "公開URL: https://232b-35-240-242-113.ngrok-free.app\n",
            "\n",
            "Collecting usage statistics. To deactivate, set browser.gatherUsageStats to false.\n",
            "\u001b[0m\n",
            "\u001b[0m\n",
            "\u001b[34m\u001b[1m  You can now view your Streamlit app in your browser.\u001b[0m\n",
            "\u001b[0m\n",
            "\u001b[34m  Local URL: \u001b[0m\u001b[1mhttp://localhost:8501\u001b[0m\n",
            "\u001b[34m  Network URL: \u001b[0m\u001b[1mhttp://172.28.0.12:8501\u001b[0m\n",
            "\u001b[34m  External URL: \u001b[0m\u001b[1mhttp://35.240.242.113:8501\u001b[0m\n",
            "\u001b[0m\n",
            "NLTK loaded successfully.\n",
            "2025-04-28 01:33:31.658861: E external/local_xla/xla/stream_executor/cuda/cuda_fft.cc:477] Unable to register cuFFT factory: Attempting to register factory for plugin cuFFT when one has already been registered\n",
            "WARNING: All log messages before absl::InitializeLog() is called are written to STDERR\n",
            "E0000 00:00:1745804011.919666    1671 cuda_dnn.cc:8310] Unable to register cuDNN factory: Attempting to register factory for plugin cuDNN when one has already been registered\n",
            "E0000 00:00:1745804011.994530    1671 cuda_blas.cc:1418] Unable to register cuBLAS factory: Attempting to register factory for plugin cuBLAS when one has already been registered\n",
            "2025-04-28 01:33:32.528810: I tensorflow/core/platform/cpu_feature_guard.cc:210] This TensorFlow binary is optimized to use available CPU instructions in performance-critical operations.\n",
            "To enable the following instructions: AVX2 AVX512F FMA, in other operations, rebuild TensorFlow with the appropriate compiler flags.\n",
            "NLTK Punkt data checked/downloaded.\n",
            "Database 'chat_feedback.db' initialized successfully.\n",
            "Data saved to DB successfully.\n",
            "Data saved to DB successfully.\n",
            "Data saved to DB successfully.\n",
            "Data saved to DB successfully.\n",
            "Data saved to DB successfully.\n",
            "Data saved to DB successfully.\n",
            "Data saved to DB successfully.\n",
            "Data saved to DB successfully.\n",
            "Data saved to DB successfully.\n",
            "Data saved to DB successfully.\n",
            "config.json: 100% 805/805 [00:00<00:00, 5.53MB/s]\n",
            "model.safetensors.index.json: 100% 24.2k/24.2k [00:00<00:00, 26.7MB/s]\n",
            "Fetching 2 files:   0% 0/2 [00:00<?, ?it/s]\n",
            "model-00001-of-00002.safetensors:   0% 0.00/4.99G [00:00<?, ?B/s]\u001b[A\n",
            "\n",
            "model-00002-of-00002.safetensors:   0% 0.00/241M [00:00<?, ?B/s]\u001b[A\u001b[A\n",
            "model-00001-of-00002.safetensors:   0% 10.5M/4.99G [00:00<01:06, 75.1MB/s]\u001b[A\n",
            "\n",
            "model-00002-of-00002.safetensors:  13% 31.5M/241M [00:00<00:00, 245MB/s]\u001b[A\u001b[A\n",
            "model-00001-of-00002.safetensors:   1% 31.5M/4.99G [00:00<00:39, 126MB/s] \u001b[A\n",
            "\n",
            "model-00002-of-00002.safetensors:  26% 62.9M/241M [00:00<00:00, 255MB/s]\u001b[A\u001b[A\n",
            "model-00001-of-00002.safetensors:   1% 52.4M/4.99G [00:00<00:31, 156MB/s]\u001b[A\n",
            "\n",
            "model-00002-of-00002.safetensors:  39% 94.4M/241M [00:00<00:00, 173MB/s]\u001b[A\u001b[A\n",
            "model-00001-of-00002.safetensors:   1% 73.4M/4.99G [00:00<00:37, 130MB/s]\u001b[A\n",
            "\n",
            "model-00002-of-00002.safetensors:  48% 115M/241M [00:00<00:00, 156MB/s] \u001b[A\u001b[A\n",
            "model-00001-of-00002.safetensors:   2% 94.4M/4.99G [00:00<00:36, 133MB/s]\u001b[A\n",
            "model-00001-of-00002.safetensors:   2% 115M/4.99G [00:00<00:34, 142MB/s] \u001b[A\n",
            "\n",
            "model-00002-of-00002.safetensors:  57% 136M/241M [00:00<00:00, 146MB/s]\u001b[A\u001b[A\n",
            "model-00001-of-00002.safetensors:   3% 136M/4.99G [00:01<00:34, 140MB/s]\u001b[A\n",
            "\n",
            "model-00002-of-00002.safetensors:  65% 157M/241M [00:00<00:00, 143MB/s]\u001b[A\u001b[A\n",
            "model-00001-of-00002.safetensors:   3% 157M/4.99G [00:01<00:35, 138MB/s]\u001b[A\n",
            "\n",
            "model-00002-of-00002.safetensors:  74% 178M/241M [00:01<00:00, 135MB/s]\u001b[A\u001b[A\n",
            "model-00001-of-00002.safetensors:   4% 178M/4.99G [00:01<00:34, 141MB/s]\u001b[A\n",
            "\n",
            "model-00002-of-00002.safetensors:  83% 199M/241M [00:01<00:00, 139MB/s]\u001b[A\u001b[A\n",
            "model-00001-of-00002.safetensors:   4% 199M/4.99G [00:01<00:32, 149MB/s]\u001b[A\n",
            "\n",
            "model-00002-of-00002.safetensors:  91% 220M/241M [00:01<00:00, 144MB/s]\u001b[A\u001b[A\n",
            "model-00001-of-00002.safetensors:   4% 220M/4.99G [00:01<00:31, 153MB/s]\u001b[A\n",
            "\n",
            "model-00002-of-00002.safetensors: 100% 241M/241M [00:01<00:00, 152MB/s]\n",
            "\n",
            "model-00001-of-00002.safetensors:   5% 252M/4.99G [00:01<00:25, 184MB/s]\u001b[A\n",
            "model-00001-of-00002.safetensors:   6% 294M/4.99G [00:01<00:21, 221MB/s]\u001b[A\n",
            "model-00001-of-00002.safetensors:   7% 325M/4.99G [00:02<00:25, 182MB/s]\u001b[A\n",
            "model-00001-of-00002.safetensors:   7% 346M/4.99G [00:02<00:27, 170MB/s]\u001b[A\n",
            "model-00001-of-00002.safetensors:   8% 377M/4.99G [00:02<00:24, 192MB/s]\u001b[A\n",
            "model-00001-of-00002.safetensors:   8% 409M/4.99G [00:02<00:21, 217MB/s]\u001b[A\n",
            "model-00001-of-00002.safetensors:   9% 451M/4.99G [00:02<00:18, 248MB/s]\u001b[A\n",
            "model-00001-of-00002.safetensors:  10% 482M/4.99G [00:02<00:17, 258MB/s]\u001b[A\n",
            "model-00001-of-00002.safetensors:  10% 514M/4.99G [00:02<00:17, 261MB/s]\u001b[A\n",
            "model-00001-of-00002.safetensors:  11% 545M/4.99G [00:02<00:17, 257MB/s]\u001b[A\n",
            "model-00001-of-00002.safetensors:  12% 577M/4.99G [00:03<00:17, 258MB/s]\u001b[A\n",
            "model-00001-of-00002.safetensors:  12% 619M/4.99G [00:03<00:15, 277MB/s]\u001b[A\n",
            "model-00001-of-00002.safetensors:  13% 650M/4.99G [00:03<00:15, 277MB/s]\u001b[A\n",
            "model-00001-of-00002.safetensors:  14% 682M/4.99G [00:03<00:16, 261MB/s]\u001b[A\n",
            "model-00001-of-00002.safetensors:  14% 713M/4.99G [00:03<00:15, 274MB/s]\u001b[A\n",
            "model-00001-of-00002.safetensors:  15% 744M/4.99G [00:03<00:15, 273MB/s]\u001b[A\n",
            "model-00001-of-00002.safetensors:  16% 776M/4.99G [00:03<00:15, 271MB/s]\u001b[A\n",
            "model-00001-of-00002.safetensors:  16% 807M/4.99G [00:03<00:15, 269MB/s]\u001b[A\n",
            "model-00001-of-00002.safetensors:  17% 839M/4.99G [00:03<00:14, 280MB/s]\u001b[A\n",
            "model-00001-of-00002.safetensors:  17% 870M/4.99G [00:04<00:14, 278MB/s]\u001b[A\n",
            "model-00001-of-00002.safetensors:  18% 912M/4.99G [00:04<00:14, 277MB/s]\u001b[A\n",
            "model-00001-of-00002.safetensors:  19% 944M/4.99G [00:04<00:14, 278MB/s]\u001b[A\n",
            "model-00001-of-00002.safetensors:  20% 975M/4.99G [00:04<00:14, 286MB/s]\u001b[A\n",
            "model-00001-of-00002.safetensors:  20% 1.01G/4.99G [00:04<00:15, 259MB/s]\u001b[A\n",
            "model-00001-of-00002.safetensors:  21% 1.04G/4.99G [00:04<00:14, 268MB/s]\u001b[A\n",
            "model-00001-of-00002.safetensors:  21% 1.07G/4.99G [00:04<00:14, 262MB/s]\u001b[A\n",
            "model-00001-of-00002.safetensors:  22% 1.10G/4.99G [00:04<00:14, 264MB/s]\u001b[A\n",
            "model-00001-of-00002.safetensors:  23% 1.13G/4.99G [00:07<01:27, 44.2MB/s]\u001b[A\n",
            "model-00001-of-00002.safetensors:  24% 1.17G/4.99G [00:07<00:59, 64.5MB/s]\u001b[A\n",
            "model-00001-of-00002.safetensors:  24% 1.22G/4.99G [00:07<00:41, 90.0MB/s]\u001b[A\n",
            "model-00001-of-00002.safetensors:  25% 1.26G/4.99G [00:07<00:31, 120MB/s] \u001b[A\n",
            "model-00001-of-00002.safetensors:  26% 1.29G/4.99G [00:07<00:27, 137MB/s]\u001b[A\n",
            "model-00001-of-00002.safetensors:  27% 1.33G/4.99G [00:07<00:21, 172MB/s]\u001b[A\n",
            "model-00001-of-00002.safetensors:  27% 1.36G/4.99G [00:07<00:20, 176MB/s]\u001b[A\n",
            "model-00001-of-00002.safetensors:  28% 1.39G/4.99G [00:07<00:19, 185MB/s]\u001b[A\n",
            "model-00001-of-00002.safetensors:  29% 1.43G/4.99G [00:08<00:20, 178MB/s]\u001b[A\n",
            "model-00001-of-00002.safetensors:  29% 1.47G/4.99G [00:08<00:15, 220MB/s]\u001b[A\n",
            "model-00001-of-00002.safetensors:  30% 1.50G/4.99G [00:08<00:14, 234MB/s]\u001b[A\n",
            "model-00001-of-00002.safetensors:  31% 1.53G/4.99G [00:08<00:14, 240MB/s]\u001b[A\n",
            "model-00001-of-00002.safetensors:  31% 1.56G/4.99G [00:08<00:14, 242MB/s]\u001b[A\n",
            "model-00001-of-00002.safetensors:  32% 1.59G/4.99G [00:08<00:13, 259MB/s]\u001b[A\n",
            "model-00001-of-00002.safetensors:  33% 1.63G/4.99G [00:08<00:13, 243MB/s]\u001b[A\n",
            "model-00001-of-00002.safetensors:  33% 1.66G/4.99G [00:09<00:13, 254MB/s]\u001b[A\n",
            "model-00001-of-00002.safetensors:  34% 1.69G/4.99G [00:11<01:15, 44.0MB/s]\u001b[A\n",
            "model-00001-of-00002.safetensors:  34% 1.72G/4.99G [00:11<00:58, 55.7MB/s]\u001b[A\n",
            "model-00001-of-00002.safetensors:  35% 1.76G/4.99G [00:11<00:40, 79.3MB/s]\u001b[A\n",
            "model-00001-of-00002.safetensors:  36% 1.79G/4.99G [00:11<00:32, 96.9MB/s]\u001b[A\n",
            "model-00001-of-00002.safetensors:  37% 1.82G/4.99G [00:11<00:26, 118MB/s] \u001b[A\n",
            "model-00001-of-00002.safetensors:  37% 1.86G/4.99G [00:11<00:26, 117MB/s]\u001b[A\n",
            "model-00001-of-00002.safetensors:  38% 1.90G/4.99G [00:12<00:19, 155MB/s]\u001b[A\n",
            "model-00001-of-00002.safetensors:  39% 1.93G/4.99G [00:12<00:18, 170MB/s]\u001b[A\n",
            "model-00001-of-00002.safetensors:  39% 1.96G/4.99G [00:12<00:15, 192MB/s]\u001b[A\n",
            "model-00001-of-00002.safetensors:  40% 1.99G/4.99G [00:12<00:15, 196MB/s]\u001b[A\n",
            "model-00001-of-00002.safetensors:  41% 2.02G/4.99G [00:12<00:15, 195MB/s]\u001b[A\n",
            "model-00001-of-00002.safetensors:  41% 2.06G/4.99G [00:12<00:13, 212MB/s]\u001b[A\n",
            "model-00001-of-00002.safetensors:  42% 2.09G/4.99G [00:12<00:12, 229MB/s]\u001b[A\n",
            "model-00001-of-00002.safetensors:  43% 2.13G/4.99G [00:13<00:11, 248MB/s]\u001b[A\n",
            "model-00001-of-00002.safetensors:  43% 2.16G/4.99G [00:13<00:11, 246MB/s]\u001b[A\n",
            "model-00001-of-00002.safetensors:  44% 2.19G/4.99G [00:13<00:11, 251MB/s]\u001b[A\n",
            "model-00001-of-00002.safetensors:  45% 2.22G/4.99G [00:13<00:10, 252MB/s]\u001b[A\n",
            "model-00001-of-00002.safetensors:  45% 2.25G/4.99G [00:13<00:10, 253MB/s]\u001b[A\n",
            "model-00001-of-00002.safetensors:  46% 2.29G/4.99G [00:13<00:11, 237MB/s]\u001b[A\n",
            "model-00001-of-00002.safetensors:  46% 2.32G/4.99G [00:13<00:10, 249MB/s]\u001b[A\n",
            "model-00001-of-00002.safetensors:  47% 2.35G/4.99G [00:13<00:09, 265MB/s]\u001b[A\n",
            "model-00001-of-00002.safetensors:  48% 2.39G/4.99G [00:14<00:09, 286MB/s]\u001b[A\n",
            "model-00001-of-00002.safetensors:  49% 2.42G/4.99G [00:14<00:09, 283MB/s]\u001b[A\n",
            "model-00001-of-00002.safetensors:  49% 2.46G/4.99G [00:14<00:08, 292MB/s]\u001b[A\n",
            "model-00001-of-00002.safetensors:  50% 2.50G/4.99G [00:14<00:08, 296MB/s]\u001b[A\n",
            "model-00001-of-00002.safetensors:  51% 2.53G/4.99G [00:14<00:09, 272MB/s]\u001b[A\n",
            "model-00001-of-00002.safetensors:  51% 2.56G/4.99G [00:14<00:08, 273MB/s]\u001b[A\n",
            "model-00001-of-00002.safetensors:  52% 2.59G/4.99G [00:14<00:09, 266MB/s]\u001b[A\n",
            "model-00001-of-00002.safetensors:  53% 2.62G/4.99G [00:14<00:08, 270MB/s]\u001b[A\n",
            "model-00001-of-00002.safetensors:  53% 2.65G/4.99G [00:14<00:08, 267MB/s]\u001b[A\n",
            "model-00001-of-00002.safetensors:  54% 2.68G/4.99G [00:15<00:08, 266MB/s]\u001b[A\n",
            "model-00001-of-00002.safetensors:  55% 2.73G/4.99G [00:15<00:08, 281MB/s]\u001b[A\n",
            "model-00001-of-00002.safetensors:  55% 2.76G/4.99G [00:15<00:07, 280MB/s]\u001b[A\n",
            "model-00001-of-00002.safetensors:  56% 2.79G/4.99G [00:15<00:07, 286MB/s]\u001b[A\n",
            "model-00001-of-00002.safetensors:  57% 2.82G/4.99G [00:15<00:08, 271MB/s]\u001b[A\n",
            "model-00001-of-00002.safetensors:  57% 2.85G/4.99G [00:15<00:07, 268MB/s]\u001b[A\n",
            "model-00001-of-00002.safetensors:  58% 2.88G/4.99G [00:15<00:08, 244MB/s]\u001b[A\n",
            "model-00001-of-00002.safetensors:  58% 2.92G/4.99G [00:16<00:10, 195MB/s]\u001b[A\n",
            "model-00001-of-00002.safetensors:  59% 2.95G/4.99G [00:16<00:09, 209MB/s]\u001b[A\n",
            "model-00001-of-00002.safetensors:  60% 2.98G/4.99G [00:16<00:10, 191MB/s]\u001b[A\n",
            "model-00001-of-00002.safetensors:  60% 3.01G/4.99G [00:16<00:09, 201MB/s]\u001b[A\n",
            "model-00001-of-00002.safetensors:  61% 3.04G/4.99G [00:16<00:08, 220MB/s]\u001b[A\n",
            "model-00001-of-00002.safetensors:  62% 3.07G/4.99G [00:16<00:08, 226MB/s]\u001b[A\n",
            "model-00001-of-00002.safetensors:  62% 3.10G/4.99G [00:16<00:08, 230MB/s]\u001b[A\n",
            "model-00001-of-00002.safetensors:  63% 3.14G/4.99G [00:17<00:08, 228MB/s]\u001b[A\n",
            "model-00001-of-00002.safetensors:  63% 3.17G/4.99G [00:17<00:07, 237MB/s]\u001b[A\n",
            "model-00001-of-00002.safetensors:  64% 3.20G/4.99G [00:17<00:07, 241MB/s]\u001b[A\n",
            "model-00001-of-00002.safetensors:  65% 3.23G/4.99G [00:17<00:06, 252MB/s]\u001b[A\n",
            "model-00001-of-00002.safetensors:  65% 3.26G/4.99G [00:17<00:06, 263MB/s]\u001b[A\n",
            "model-00001-of-00002.safetensors:  66% 3.29G/4.99G [00:17<00:06, 270MB/s]\u001b[A\n",
            "model-00001-of-00002.safetensors:  67% 3.32G/4.99G [00:17<00:06, 269MB/s]\u001b[A\n",
            "model-00001-of-00002.safetensors:  67% 3.36G/4.99G [00:17<00:05, 273MB/s]\u001b[A\n",
            "model-00001-of-00002.safetensors:  68% 3.39G/4.99G [00:17<00:05, 282MB/s]\u001b[A\n",
            "model-00001-of-00002.safetensors:  69% 3.43G/4.99G [00:18<00:05, 273MB/s]\u001b[A\n",
            "model-00001-of-00002.safetensors:  69% 3.46G/4.99G [00:18<00:05, 282MB/s]\u001b[A\n",
            "model-00001-of-00002.safetensors:  70% 3.49G/4.99G [00:18<00:07, 197MB/s]\u001b[A\n",
            "model-00001-of-00002.safetensors:  71% 3.52G/4.99G [00:18<00:08, 173MB/s]\u001b[A\n",
            "model-00001-of-00002.safetensors:  71% 3.54G/4.99G [00:18<00:08, 180MB/s]\u001b[A\n",
            "model-00001-of-00002.safetensors:  71% 3.57G/4.99G [00:19<00:11, 121MB/s]\u001b[A\n",
            "model-00001-of-00002.safetensors:  72% 3.60G/4.99G [00:19<00:09, 148MB/s]\u001b[A\n",
            "model-00001-of-00002.safetensors:  73% 3.63G/4.99G [00:19<00:07, 174MB/s]\u001b[A\n",
            "model-00001-of-00002.safetensors:  74% 3.67G/4.99G [00:19<00:06, 211MB/s]\u001b[A\n",
            "model-00001-of-00002.safetensors:  74% 3.70G/4.99G [00:19<00:06, 212MB/s]\u001b[A\n",
            "model-00001-of-00002.safetensors:  75% 3.73G/4.99G [00:19<00:06, 182MB/s]\u001b[A\n",
            "model-00001-of-00002.safetensors:  75% 3.75G/4.99G [00:20<00:06, 179MB/s]\u001b[A\n",
            "model-00001-of-00002.safetensors:  76% 3.79G/4.99G [00:20<00:06, 176MB/s]\u001b[A\n",
            "model-00001-of-00002.safetensors:  76% 3.81G/4.99G [00:20<00:06, 175MB/s]\u001b[A\n",
            "model-00001-of-00002.safetensors:  77% 3.84G/4.99G [00:20<00:05, 199MB/s]\u001b[A\n",
            "model-00001-of-00002.safetensors:  78% 3.87G/4.99G [00:20<00:05, 187MB/s]\u001b[A\n",
            "model-00001-of-00002.safetensors:  78% 3.90G/4.99G [00:21<00:16, 66.5MB/s]\u001b[A\n",
            "model-00001-of-00002.safetensors:  79% 3.92G/4.99G [00:21<00:14, 75.6MB/s]\u001b[A\n",
            "model-00001-of-00002.safetensors:  79% 3.95G/4.99G [00:22<00:11, 89.8MB/s]\u001b[A\n",
            "model-00001-of-00002.safetensors:  80% 3.97G/4.99G [00:25<00:48, 20.8MB/s]\u001b[A\n",
            "model-00001-of-00002.safetensors:  81% 4.02G/4.99G [00:25<00:28, 33.8MB/s]\u001b[A\n",
            "model-00001-of-00002.safetensors:  81% 4.05G/4.99G [00:25<00:20, 46.0MB/s]\u001b[A\n",
            "model-00001-of-00002.safetensors:  82% 4.08G/4.99G [00:26<00:14, 61.3MB/s]\u001b[A\n",
            "model-00001-of-00002.safetensors:  82% 4.11G/4.99G [00:26<00:11, 77.7MB/s]\u001b[A\n",
            "model-00001-of-00002.safetensors:  83% 4.14G/4.99G [00:27<00:16, 50.2MB/s]\u001b[A\n",
            "model-00001-of-00002.safetensors:  84% 4.17G/4.99G [00:27<00:15, 53.8MB/s]\u001b[A\n",
            "model-00001-of-00002.safetensors:  84% 4.19G/4.99G [00:28<00:20, 39.1MB/s]\u001b[A\n",
            "model-00001-of-00002.safetensors:  85% 4.23G/4.99G [00:28<00:14, 54.3MB/s]\u001b[A\n",
            "model-00001-of-00002.safetensors:  86% 4.27G/4.99G [00:29<00:08, 80.6MB/s]\u001b[A\n",
            "model-00001-of-00002.safetensors:  86% 4.30G/4.99G [00:29<00:06, 100MB/s] \u001b[A\n",
            "model-00001-of-00002.safetensors:  87% 4.33G/4.99G [00:29<00:05, 123MB/s]\u001b[A\n",
            "model-00001-of-00002.safetensors:  87% 4.36G/4.99G [00:29<00:04, 138MB/s]\u001b[A\n",
            "model-00001-of-00002.safetensors:  88% 4.39G/4.99G [00:29<00:03, 154MB/s]\u001b[A\n",
            "model-00001-of-00002.safetensors:  89% 4.42G/4.99G [00:29<00:03, 176MB/s]\u001b[A\n",
            "model-00001-of-00002.safetensors:  89% 4.46G/4.99G [00:29<00:02, 201MB/s]\u001b[A\n",
            "model-00001-of-00002.safetensors:  90% 4.49G/4.99G [00:29<00:02, 207MB/s]\u001b[A\n",
            "model-00001-of-00002.safetensors:  91% 4.52G/4.99G [00:30<00:02, 221MB/s]\u001b[A\n",
            "model-00001-of-00002.safetensors:  91% 4.55G/4.99G [00:30<00:01, 238MB/s]\u001b[A\n",
            "model-00001-of-00002.safetensors:  92% 4.58G/4.99G [00:30<00:01, 249MB/s]\u001b[A\n",
            "model-00001-of-00002.safetensors:  92% 4.61G/4.99G [00:30<00:01, 224MB/s]\u001b[A\n",
            "model-00001-of-00002.safetensors:  93% 4.65G/4.99G [00:30<00:01, 207MB/s]\u001b[A\n",
            "model-00001-of-00002.safetensors:  94% 4.68G/4.99G [00:30<00:01, 167MB/s]\u001b[A\n",
            "model-00001-of-00002.safetensors:  94% 4.70G/4.99G [00:35<00:14, 20.4MB/s]\u001b[A\n",
            "model-00001-of-00002.safetensors:  95% 4.72G/4.99G [00:35<00:11, 22.7MB/s]\u001b[A\n",
            "model-00001-of-00002.safetensors:  95% 4.75G/4.99G [00:35<00:07, 31.3MB/s]\u001b[A\n",
            "model-00001-of-00002.safetensors:  96% 4.79G/4.99G [00:36<00:04, 48.8MB/s]\u001b[A\n",
            "model-00001-of-00002.safetensors:  97% 4.82G/4.99G [00:36<00:02, 64.5MB/s]\u001b[A\n",
            "model-00001-of-00002.safetensors:  97% 4.85G/4.99G [00:36<00:01, 81.8MB/s]\u001b[A\n",
            "model-00001-of-00002.safetensors:  98% 4.89G/4.99G [00:36<00:01, 98.0MB/s]\u001b[A\n",
            "model-00001-of-00002.safetensors:  98% 4.91G/4.99G [00:36<00:00, 106MB/s] \u001b[A\n",
            "model-00001-of-00002.safetensors:  99% 4.94G/4.99G [00:36<00:00, 135MB/s]\u001b[A\n",
            "model-00001-of-00002.safetensors: 100% 4.99G/4.99G [00:37<00:00, 135MB/s]\n",
            "Fetching 2 files: 100% 2/2 [00:37<00:00, 18.65s/it]\n",
            "Loading checkpoint shards: 100% 2/2 [00:00<00:00, 12.63it/s]\n",
            "generation_config.json: 100% 168/168 [00:00<00:00, 1.29MB/s]\n",
            "tokenizer_config.json: 100% 46.9k/46.9k [00:00<00:00, 161MB/s]\n",
            "tokenizer.model: 100% 4.24M/4.24M [00:00<00:00, 96.3MB/s]\n",
            "tokenizer.json: 100% 17.5M/17.5M [00:00<00:00, 103MB/s] \n",
            "special_tokens_map.json: 100% 555/555 [00:00<00:00, 4.37MB/s]\n",
            "Device set to use cuda\n",
            "2025-04-28 01:34:41.973 Examining the path of torch.classes raised:\n",
            "Traceback (most recent call last):\n",
            "  File \"/usr/local/lib/python3.11/dist-packages/streamlit/web/bootstrap.py\", line 347, in run\n",
            "    if asyncio.get_running_loop().is_running():\n",
            "       ^^^^^^^^^^^^^^^^^^^^^^^^^^\n",
            "RuntimeError: no running event loop\n",
            "\n",
            "During handling of the above exception, another exception occurred:\n",
            "\n",
            "Traceback (most recent call last):\n",
            "  File \"/usr/local/lib/python3.11/dist-packages/streamlit/watcher/local_sources_watcher.py\", line 217, in get_module_paths\n",
            "    potential_paths = extract_paths(module)\n",
            "                      ^^^^^^^^^^^^^^^^^^^^^\n",
            "  File \"/usr/local/lib/python3.11/dist-packages/streamlit/watcher/local_sources_watcher.py\", line 210, in <lambda>\n",
            "    lambda m: list(m.__path__._path),\n",
            "                   ^^^^^^^^^^^^^^^^\n",
            "  File \"/usr/local/lib/python3.11/dist-packages/torch/_classes.py\", line 13, in __getattr__\n",
            "    proxy = torch._C._get_custom_class_python_wrapper(self.name, attr)\n",
            "            ^^^^^^^^^^^^^^^^^^^^^^^^^^^^^^^^^^^^^^^^^^^^^^^^^^^^^^^^^^\n",
            "RuntimeError: Tried to instantiate class '__path__._path', but it does not exist! Ensure that it is registered via torch::class_\n",
            "NLTK loaded successfully.\n",
            "NLTK Punkt data checked/downloaded.\n",
            "Database 'chat_feedback.db' initialized successfully.\n",
            "2025-04-28 01:39:45.444 Examining the path of torch.classes raised:\n",
            "Traceback (most recent call last):\n",
            "  File \"/usr/local/lib/python3.11/dist-packages/streamlit/web/bootstrap.py\", line 347, in run\n",
            "    if asyncio.get_running_loop().is_running():\n",
            "       ^^^^^^^^^^^^^^^^^^^^^^^^^^\n",
            "RuntimeError: no running event loop\n",
            "\n",
            "During handling of the above exception, another exception occurred:\n",
            "\n",
            "Traceback (most recent call last):\n",
            "  File \"/usr/local/lib/python3.11/dist-packages/streamlit/watcher/local_sources_watcher.py\", line 217, in get_module_paths\n",
            "    potential_paths = extract_paths(module)\n",
            "                      ^^^^^^^^^^^^^^^^^^^^^\n",
            "  File \"/usr/local/lib/python3.11/dist-packages/streamlit/watcher/local_sources_watcher.py\", line 210, in <lambda>\n",
            "    lambda m: list(m.__path__._path),\n",
            "                   ^^^^^^^^^^^^^^^^\n",
            "  File \"/usr/local/lib/python3.11/dist-packages/torch/_classes.py\", line 13, in __getattr__\n",
            "    proxy = torch._C._get_custom_class_python_wrapper(self.name, attr)\n",
            "            ^^^^^^^^^^^^^^^^^^^^^^^^^^^^^^^^^^^^^^^^^^^^^^^^^^^^^^^^^^\n",
            "RuntimeError: Tried to instantiate class '__path__._path', but it does not exist! Ensure that it is registered via torch::class_\n",
            "NLTK loaded successfully.\n",
            "NLTK Punkt data checked/downloaded.\n",
            "Database 'chat_feedback.db' initialized successfully.\n",
            "2025-04-28 01:45:18.494 Examining the path of torch.classes raised:\n",
            "Traceback (most recent call last):\n",
            "  File \"/usr/local/lib/python3.11/dist-packages/streamlit/web/bootstrap.py\", line 347, in run\n",
            "    if asyncio.get_running_loop().is_running():\n",
            "       ^^^^^^^^^^^^^^^^^^^^^^^^^^\n",
            "RuntimeError: no running event loop\n",
            "\n",
            "During handling of the above exception, another exception occurred:\n",
            "\n",
            "Traceback (most recent call last):\n",
            "  File \"/usr/local/lib/python3.11/dist-packages/streamlit/watcher/local_sources_watcher.py\", line 217, in get_module_paths\n",
            "    potential_paths = extract_paths(module)\n",
            "                      ^^^^^^^^^^^^^^^^^^^^^\n",
            "  File \"/usr/local/lib/python3.11/dist-packages/streamlit/watcher/local_sources_watcher.py\", line 210, in <lambda>\n",
            "    lambda m: list(m.__path__._path),\n",
            "                   ^^^^^^^^^^^^^^^^\n",
            "  File \"/usr/local/lib/python3.11/dist-packages/torch/_classes.py\", line 13, in __getattr__\n",
            "    proxy = torch._C._get_custom_class_python_wrapper(self.name, attr)\n",
            "            ^^^^^^^^^^^^^^^^^^^^^^^^^^^^^^^^^^^^^^^^^^^^^^^^^^^^^^^^^^\n",
            "RuntimeError: Tried to instantiate class '__path__._path', but it does not exist! Ensure that it is registered via torch::class_\n",
            "NLTK loaded successfully.\n",
            "NLTK Punkt data checked/downloaded.\n",
            "Database 'chat_feedback.db' initialized successfully.\n",
            "2025-04-28 01:48:12.147 Examining the path of torch.classes raised:\n",
            "Traceback (most recent call last):\n",
            "  File \"/usr/local/lib/python3.11/dist-packages/streamlit/web/bootstrap.py\", line 347, in run\n",
            "    if asyncio.get_running_loop().is_running():\n",
            "       ^^^^^^^^^^^^^^^^^^^^^^^^^^\n",
            "RuntimeError: no running event loop\n",
            "\n",
            "During handling of the above exception, another exception occurred:\n",
            "\n",
            "Traceback (most recent call last):\n",
            "  File \"/usr/local/lib/python3.11/dist-packages/streamlit/watcher/local_sources_watcher.py\", line 217, in get_module_paths\n",
            "    potential_paths = extract_paths(module)\n",
            "                      ^^^^^^^^^^^^^^^^^^^^^\n",
            "  File \"/usr/local/lib/python3.11/dist-packages/streamlit/watcher/local_sources_watcher.py\", line 210, in <lambda>\n",
            "    lambda m: list(m.__path__._path),\n",
            "                   ^^^^^^^^^^^^^^^^\n",
            "  File \"/usr/local/lib/python3.11/dist-packages/torch/_classes.py\", line 13, in __getattr__\n",
            "    proxy = torch._C._get_custom_class_python_wrapper(self.name, attr)\n",
            "            ^^^^^^^^^^^^^^^^^^^^^^^^^^^^^^^^^^^^^^^^^^^^^^^^^^^^^^^^^^\n",
            "RuntimeError: Tried to instantiate class '__path__._path', but it does not exist! Ensure that it is registered via torch::class_\n",
            "NLTK Punkt data checked/downloaded.\n",
            "Database 'chat_feedback.db' initialized successfully.\n",
            "NLTK Punkt data checked/downloaded.\n",
            "Database 'chat_feedback.db' initialized successfully.\n",
            "Generated response in 33.63s\n",
            "NLTK Punkt data checked/downloaded.\n",
            "Database 'chat_feedback.db' initialized successfully.\n",
            "NLTK Punkt data checked/downloaded.\n",
            "Database 'chat_feedback.db' initialized successfully.\n",
            "NLTK Punkt data checked/downloaded.\n",
            "Database 'chat_feedback.db' initialized successfully.\n",
            "2025-04-28 01:50:25.749 Examining the path of torch.classes raised:\n",
            "Traceback (most recent call last):\n",
            "  File \"/usr/local/lib/python3.11/dist-packages/streamlit/web/bootstrap.py\", line 347, in run\n",
            "    if asyncio.get_running_loop().is_running():\n",
            "       ^^^^^^^^^^^^^^^^^^^^^^^^^^\n",
            "RuntimeError: no running event loop\n",
            "\n",
            "During handling of the above exception, another exception occurred:\n",
            "\n",
            "Traceback (most recent call last):\n",
            "  File \"/usr/local/lib/python3.11/dist-packages/streamlit/watcher/local_sources_watcher.py\", line 217, in get_module_paths\n",
            "    potential_paths = extract_paths(module)\n",
            "                      ^^^^^^^^^^^^^^^^^^^^^\n",
            "  File \"/usr/local/lib/python3.11/dist-packages/streamlit/watcher/local_sources_watcher.py\", line 210, in <lambda>\n",
            "    lambda m: list(m.__path__._path),\n",
            "                   ^^^^^^^^^^^^^^^^\n",
            "  File \"/usr/local/lib/python3.11/dist-packages/torch/_classes.py\", line 13, in __getattr__\n",
            "    proxy = torch._C._get_custom_class_python_wrapper(self.name, attr)\n",
            "            ^^^^^^^^^^^^^^^^^^^^^^^^^^^^^^^^^^^^^^^^^^^^^^^^^^^^^^^^^^\n",
            "RuntimeError: Tried to instantiate class '__path__._path', but it does not exist! Ensure that it is registered via torch::class_\n",
            "NLTK Punkt data checked/downloaded.\n",
            "Database 'chat_feedback.db' initialized successfully.\n",
            "NLTK Punkt data checked/downloaded.\n",
            "Database 'chat_feedback.db' initialized successfully.\n"
          ]
        },
        {
          "output_type": "stream",
          "name": "stderr",
          "text": [
            "ERROR:root:Internal Python error in the inspect module.\n",
            "Below is the traceback from this internal error.\n",
            "\n"
          ]
        },
        {
          "output_type": "stream",
          "name": "stdout",
          "text": [
            "\u001b[34m  Stopping...\u001b[0m\n",
            "\u001b[34m  Stopping...\u001b[0m\n",
            "\u001b[34m  Stopping...\u001b[0m\n",
            "Exception ignored in: <module 'threading' from '/usr/lib/python3.11/threading.py'>\n",
            "Traceback (most recent call last):\n",
            "  File \"/usr/lib/python3.11/threading.py\", line 1560, in _shutdown\n",
            "\u001b[34m  Stopping...\u001b[0m\n",
            "  File \"/usr/lib/python3.11/concurrent/futures/thread.py\", line 31, in _python_exit\n",
            "    t.join()\n",
            "  File \"/usr/lib/python3.11/threading.py\", line 1119, in join\n",
            "    self._wait_for_tstate_lock()\n",
            "  File \"/usr/lib/python3.11/threading.py\", line 1139, in _wait_for_tstate_lock\n",
            "    if lock.acquire(block, timeout):\n",
            "       ^^^^^^^^^^^^^^^^^^^^^^^^^^^^\n",
            "  File \"/usr/local/lib/python3.11/dist-packages/streamlit/web/bootstrap.py\", line 44, in signal_handler\n",
            "    server.stop()\n",
            "  File \"/usr/local/lib/python3.11/dist-packages/streamlit/web/server/server.py\", line 470, in stop\n",
            "\u001b[34m  Stopping...\u001b[0m\n",
            "  File \"/usr/local/lib/python3.11/dist-packages/streamlit/runtime/runtime.py\", line 337, in stop\n"
          ]
        },
        {
          "output_type": "stream",
          "name": "stderr",
          "text": [
            "\n",
            "KeyboardInterrupt\n",
            "\n"
          ]
        }
      ],
      "source": [
        "from pyngrok import ngrok\n",
        "\n",
        "public_url = ngrok.connect(8501).public_url\n",
        "print(f\"公開URL: {public_url}\")\n",
        "!streamlit run app.py"
      ]
    },
    {
      "cell_type": "markdown",
      "metadata": {
        "id": "FVr3Krh9_anO"
      },
      "source": [
        "アプリケーションの機能としては、チャット機能や履歴閲覧があります。\n",
        "\n",
        "これらの機能を実現するためには、StreamlitによるUI部分だけではなく、SQLiteを使用したチャット履歴の保存やLLMのモデルを呼び出した推論などの処理を組み合わせることで実現しています。\n",
        "\n",
        "- **`app.py`**: アプリケーションのエントリーポイント。チャット機能、履歴閲覧、サンプルデータ管理のUIを提供します。\n",
        "- **`ui.py`**: チャットページや履歴閲覧ページなど、アプリケーションのUIロジックを管理します。\n",
        "- **`llm.py`**: LLMモデルのロードとテキスト生成を行うモジュール。\n",
        "- **`database.py`**: SQLiteデータベースを使用してチャット履歴やフィードバックを保存・管理します。\n",
        "- **`metrics.py`**: BLEUスコアやコサイン類似度など、回答の評価指標を計算するモジュール。\n",
        "- **`data.py`**: サンプルデータの作成やデータベースの初期化を行うモジュール。\n",
        "- **`config.py`**: アプリケーションの設定（モデル名やデータベースファイル名）を管理します。\n",
        "- **`requirements.txt`**: このアプリケーションを実行するために必要なPythonパッケージ。"
      ]
    },
    {
      "cell_type": "markdown",
      "metadata": {
        "id": "Xvm8sWFPELSP"
      },
      "source": [
        "後片付けとして、使う必要のないngrokのトンネルを削除します。"
      ]
    },
    {
      "cell_type": "code",
      "execution_count": 8,
      "metadata": {
        "id": "WFJC2TmZELSP"
      },
      "outputs": [],
      "source": [
        "from pyngrok import ngrok\n",
        "ngrok.kill()"
      ]
    },
    {
      "cell_type": "markdown",
      "metadata": {
        "id": "rUXhIzV7ELSP"
      },
      "source": [
        "# 03_FastAPI\n",
        "\n",
        "ディレクトリ「03_FastAPI」に移動します。"
      ]
    },
    {
      "cell_type": "code",
      "execution_count": null,
      "metadata": {
        "id": "4ejjDLxr3kfC"
      },
      "outputs": [],
      "source": [
        "%cd /content/lecture-ai-engineering/day1/03_FastAPI"
      ]
    },
    {
      "cell_type": "markdown",
      "metadata": {
        "id": "f45TDsNzELSQ"
      },
      "source": [
        "必要なライブラリをインストールします。"
      ]
    },
    {
      "cell_type": "code",
      "execution_count": null,
      "metadata": {
        "id": "9uv6glCz5a7Z"
      },
      "outputs": [],
      "source": [
        "%%capture\n",
        "!pip install -r requirements.txt"
      ]
    },
    {
      "cell_type": "markdown",
      "metadata": {
        "id": "JfrmE2VmELSQ"
      },
      "source": [
        "ngrokとhuggigfaceのトークンを使用して、認証を行います。"
      ]
    },
    {
      "cell_type": "code",
      "execution_count": null,
      "metadata": {
        "id": "ELzWhMFORRIO"
      },
      "outputs": [],
      "source": [
        "!ngrok authtoken $$NGROK_TOKEN\n",
        "!huggingface-cli login --token $$HUGGINGFACE_TOKEN"
      ]
    },
    {
      "cell_type": "markdown",
      "metadata": {
        "id": "t-wztc2CELSQ"
      },
      "source": [
        "アプリを起動します。\n",
        "\n",
        "「02_streamlit_app」から続けて「03_FastAPI」を実行している場合は、モデルのダウンロードが済んでいるため、すぐにサービスが立ち上がります。\n",
        "\n",
        "「03_FastAPI」のみを実行している場合は、初回の起動時にモデルのダウンロードが始まるので、モデルのダウンロードが終わるまで数分間待ちましょう。"
      ]
    },
    {
      "cell_type": "code",
      "execution_count": null,
      "metadata": {
        "id": "meQ4SwISn3IQ"
      },
      "outputs": [],
      "source": [
        "!python app.py"
      ]
    },
    {
      "cell_type": "markdown",
      "metadata": {
        "id": "RLubjIhbELSR"
      },
      "source": [
        "FastAPIが起動すると、APIとクライアントが通信するためのURL（エンドポイント）が作られます。\n",
        "\n",
        "URLが作られるのと合わせて、Swagger UIというWebインターフェースが作られます。\n",
        "\n",
        "Swagger UIにアクセスすることで、APIの仕様を確認できたり、APIをテストすることができます。\n",
        "\n",
        "Swagger UIを利用することで、APIを通してLLMを動かしてみましょう。"
      ]
    },
    {
      "cell_type": "markdown",
      "metadata": {
        "id": "XgumW3mGELSR"
      },
      "source": [
        "後片付けとして、使う必要のないngrokのトンネルを削除します。"
      ]
    },
    {
      "cell_type": "code",
      "execution_count": null,
      "metadata": {
        "id": "RJymTZio-WPJ"
      },
      "outputs": [],
      "source": [
        "from pyngrok import ngrok\n",
        "ngrok.kill()"
      ]
    }
  ],
  "metadata": {
    "colab": {
      "provenance": [],
      "gpuType": "T4"
    },
    "kernelspec": {
      "display_name": "Python 3",
      "name": "python3"
    },
    "language_info": {
      "name": "python"
    },
    "accelerator": "GPU"
  },
  "nbformat": 4,
  "nbformat_minor": 0
}